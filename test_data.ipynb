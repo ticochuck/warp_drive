{
 "cells": [
  {
   "cell_type": "code",
   "execution_count": null,
   "id": "valid-warrior",
   "metadata": {},
   "outputs": [],
   "source": [
    "import pandas as pd"
   ]
  },
  {
   "cell_type": "code",
   "execution_count": null,
   "id": "correct-economy",
   "metadata": {},
   "outputs": [],
   "source": [
    "vehicules = pd.read_csv('data/Vehicles_Combined.csv')\n",
    "engines = pd.read_csv('data/Engines_Combined.csv')\n",
    "propellers = pd.read_csv('data/t_Propellers_v1.4.1_NOT READY for Import.csv')"
   ]
  },
  {
   "cell_type": "markdown",
   "id": "introductory-wallet",
   "metadata": {},
   "source": [
    "### Shape to know how many rows and columns. Shape is an attribute, not a method"
   ]
  },
  {
   "cell_type": "code",
   "execution_count": null,
   "id": "accompanied-freeze",
   "metadata": {},
   "outputs": [],
   "source": [
    "propellers.shape"
   ]
  },
  {
   "cell_type": "markdown",
   "id": "australian-search",
   "metadata": {},
   "source": [
    "### To get more info, use the info() method. You can see total rows, columns and the data type for each column"
   ]
  },
  {
   "cell_type": "code",
   "execution_count": null,
   "id": "empty-restaurant",
   "metadata": {},
   "outputs": [],
   "source": [
    "propellers.info()"
   ]
  },
  {
   "cell_type": "code",
   "execution_count": null,
   "id": "married-african",
   "metadata": {},
   "outputs": [],
   "source": [
    "propellers.columns"
   ]
  },
  {
   "cell_type": "code",
   "execution_count": null,
   "id": "different-annotation",
   "metadata": {},
   "outputs": [],
   "source": [
    "propellers['Engine_ID'].value_counts().head(20)"
   ]
  },
  {
   "cell_type": "markdown",
   "id": "adapted-parker",
   "metadata": {},
   "source": [
    "### Look for specific rows (0 and 1) in this example, and display the columns name, Engine_ID, and Vehicle_ID"
   ]
  },
  {
   "cell_type": "code",
   "execution_count": null,
   "id": "demanding-general",
   "metadata": {},
   "outputs": [],
   "source": [
    "propellers.loc[[0,1], ['name', 'Engine_ID', 'Vehicle_ID']]"
   ]
  },
  {
   "cell_type": "markdown",
   "id": "listed-yesterday",
   "metadata": {},
   "source": [
    "### To set indexes as name, not as integers"
   ]
  },
  {
   "cell_type": "code",
   "execution_count": null,
   "id": "exclusive-caribbean",
   "metadata": {},
   "outputs": [],
   "source": [
    "propellers.set_index('name', inplace=True)"
   ]
  },
  {
   "cell_type": "code",
   "execution_count": null,
   "id": "worst-merchandise",
   "metadata": {},
   "outputs": [],
   "source": [
    "propellers"
   ]
  },
  {
   "cell_type": "code",
   "execution_count": null,
   "id": "central-seminar",
   "metadata": {},
   "outputs": [],
   "source": [
    "propellers.loc['0130']"
   ]
  },
  {
   "cell_type": "markdown",
   "id": "valued-maple",
   "metadata": {},
   "source": [
    "### To reset the indexes to default use df.reset_index(inplace= True)"
   ]
  },
  {
   "cell_type": "code",
   "execution_count": null,
   "id": "opened-wilson",
   "metadata": {},
   "outputs": [],
   "source": [
    "propellers.reset_index(inplace=True)"
   ]
  },
  {
   "cell_type": "code",
   "execution_count": null,
   "id": "infrared-purple",
   "metadata": {},
   "outputs": [],
   "source": [
    "propellers"
   ]
  },
  {
   "cell_type": "markdown",
   "id": "stupid-webcam",
   "metadata": {},
   "source": [
    "### to filter you can assign what you are looking for to a var, and then filter the dataframe with that var\n",
    "\n",
    "#### for example: \n",
    "``` engine = df['Engine_ID'] == 'R532 \n",
    "    df[engine]\n",
    "```\n",
    "\n",
    "#### that can be done in 1 line too\n",
    "```\n",
    "    df[df['Engine_ID'] == 'R532']\n",
    "```"
   ]
  },
  {
   "cell_type": "code",
   "execution_count": null,
   "id": "convinced-chambers",
   "metadata": {},
   "outputs": [],
   "source": [
    "engine_r532 = propellers['Engine_ID'] == 'R532'"
   ]
  },
  {
   "cell_type": "code",
   "execution_count": null,
   "id": "owned-anaheim",
   "metadata": {},
   "outputs": [],
   "source": [
    "propellers[engine_r532]"
   ]
  },
  {
   "cell_type": "code",
   "execution_count": null,
   "id": "native-liberal",
   "metadata": {},
   "outputs": [],
   "source": [
    "propellers.loc[engine_r532, ['name', 'Engine_ID', 'Vehicle_ID']]"
   ]
  },
  {
   "cell_type": "code",
   "execution_count": null,
   "id": "valuable-graduation",
   "metadata": {},
   "outputs": [],
   "source": [
    "info = (propellers['Engine_ID'] == 'R532') & (propellers['Vehicle_ID'] == 'Tierra II') & (propellers['Reduction_Ratio (Rename to Red... Drive Name)'] == '2.58:1 Gear_Rotax B')"
   ]
  },
  {
   "cell_type": "code",
   "execution_count": null,
   "id": "theoretical-fever",
   "metadata": {},
   "outputs": [],
   "source": [
    "results = propellers.loc[info, ['name', 'Engine_ID', 'Vehicle_ID', 'Reduction_Ratio (Rename to Red... Drive Name)']]"
   ]
  },
  {
   "cell_type": "markdown",
   "id": "honest-cleaning",
   "metadata": {},
   "source": [
    "### to filter by the opposite (example: name is not '0130') add a tilda ~ in frint\n",
    "```\n",
    "    propellers.loc[~info, ['name']].head(25)\n",
    "```"
   ]
  },
  {
   "cell_type": "code",
   "execution_count": null,
   "id": "excessive-adobe",
   "metadata": {},
   "outputs": [],
   "source": [
    "results"
   ]
  }
 ],
 "metadata": {
  "kernelspec": {
   "display_name": "Python 3",
   "language": "python",
   "name": "python3"
  },
  "language_info": {
   "codemirror_mode": {
    "name": "ipython",
    "version": 3
   },
   "file_extension": ".py",
   "mimetype": "text/x-python",
   "name": "python",
   "nbconvert_exporter": "python",
   "pygments_lexer": "ipython3",
   "version": "3.8.2"
  }
 },
 "nbformat": 4,
 "nbformat_minor": 5
}
