{
 "cells": [
  {
   "cell_type": "code",
   "execution_count": 14,
   "id": "certified-medication",
   "metadata": {},
   "outputs": [],
   "source": [
    "import pandas as pd"
   ]
  },
  {
   "cell_type": "code",
   "execution_count": 39,
   "id": "binding-huntington",
   "metadata": {},
   "outputs": [
    {
     "name": "stderr",
     "output_type": "stream",
     "text": [
      "/home/chuck/.cache/pypoetry/virtualenvs/wrap-project-50V7Vr4D-py3.8/lib/python3.8/site-packages/IPython/core/interactiveshell.py:3165: DtypeWarning: Columns (4,13,16,19,20,23,31,33,40,41,42,43,47,50) have mixed types.Specify dtype option on import or set low_memory=False.\n",
      "  has_raised = await self.run_ast_nodes(code_ast.body, cell_name,\n"
     ]
    }
   ],
   "source": [
    "propellers = pd.read_csv('data/all_info_test_data.csv')"
   ]
  },
  {
   "cell_type": "code",
   "execution_count": 48,
   "id": "endangered-jackson",
   "metadata": {},
   "outputs": [
    {
     "data": {
      "text/html": [
       "<div>\n",
       "<style scoped>\n",
       "    .dataframe tbody tr th:only-of-type {\n",
       "        vertical-align: middle;\n",
       "    }\n",
       "\n",
       "    .dataframe tbody tr th {\n",
       "        vertical-align: top;\n",
       "    }\n",
       "\n",
       "    .dataframe thead th {\n",
       "        text-align: right;\n",
       "    }\n",
       "</style>\n",
       "<table border=\"1\" class=\"dataframe\">\n",
       "  <thead>\n",
       "    <tr style=\"text-align: right;\">\n",
       "      <th></th>\n",
       "      <th>Blade Count</th>\n",
       "      <th>Bld_Dia</th>\n",
       "      <th>Customer_ID</th>\n",
       "    </tr>\n",
       "  </thead>\n",
       "  <tbody>\n",
       "    <tr>\n",
       "      <th>count</th>\n",
       "      <td>49411.000000</td>\n",
       "      <td>49413.000000</td>\n",
       "      <td>49263.000000</td>\n",
       "    </tr>\n",
       "    <tr>\n",
       "      <th>mean</th>\n",
       "      <td>3.263828</td>\n",
       "      <td>67.486439</td>\n",
       "      <td>8693.900087</td>\n",
       "    </tr>\n",
       "    <tr>\n",
       "      <th>std</th>\n",
       "      <td>1.221069</td>\n",
       "      <td>5.324153</td>\n",
       "      <td>5135.153215</td>\n",
       "    </tr>\n",
       "    <tr>\n",
       "      <th>min</th>\n",
       "      <td>1.000000</td>\n",
       "      <td>23.000000</td>\n",
       "      <td>1.000000</td>\n",
       "    </tr>\n",
       "    <tr>\n",
       "      <th>25%</th>\n",
       "      <td>3.000000</td>\n",
       "      <td>66.000000</td>\n",
       "      <td>4037.000000</td>\n",
       "    </tr>\n",
       "    <tr>\n",
       "      <th>50%</th>\n",
       "      <td>3.000000</td>\n",
       "      <td>68.000000</td>\n",
       "      <td>8693.000000</td>\n",
       "    </tr>\n",
       "    <tr>\n",
       "      <th>75%</th>\n",
       "      <td>3.000000</td>\n",
       "      <td>70.000000</td>\n",
       "      <td>12524.000000</td>\n",
       "    </tr>\n",
       "    <tr>\n",
       "      <th>max</th>\n",
       "      <td>12.000000</td>\n",
       "      <td>92.000000</td>\n",
       "      <td>20941.000000</td>\n",
       "    </tr>\n",
       "  </tbody>\n",
       "</table>\n",
       "</div>"
      ],
      "text/plain": [
       "        Blade Count       Bld_Dia   Customer_ID\n",
       "count  49411.000000  49413.000000  49263.000000\n",
       "mean       3.263828     67.486439   8693.900087\n",
       "std        1.221069      5.324153   5135.153215\n",
       "min        1.000000     23.000000      1.000000\n",
       "25%        3.000000     66.000000   4037.000000\n",
       "50%        3.000000     68.000000   8693.000000\n",
       "75%        3.000000     70.000000  12524.000000\n",
       "max       12.000000     92.000000  20941.000000"
      ]
     },
     "execution_count": 48,
     "metadata": {},
     "output_type": "execute_result"
    }
   ],
   "source": [
    "propellers['Blade Count'].value_counts()\n",
    "propellers.desc"
   ]
  },
  {
   "cell_type": "code",
   "execution_count": 41,
   "id": "mexican-train",
   "metadata": {
    "tags": []
   },
   "outputs": [
    {
     "data": {
      "text/plain": [
       "68.0    15870\n",
       "72.0     7776\n",
       "70.0     6443\n",
       "66.0     4132\n",
       "60.0     3908\n",
       "62.0     2545\n",
       "64.0     2430\n",
       "80.0     2098\n",
       "58.0      562\n",
       "54.0      496\n",
       "63.0      411\n",
       "67.0      400\n",
       "52.0      400\n",
       "71.0      361\n",
       "56.0      244\n",
       "Name: Bld_Dia, dtype: int64"
      ]
     },
     "execution_count": 41,
     "metadata": {},
     "output_type": "execute_result"
    }
   ],
   "source": [
    "propellers['Bld_Dia'].value_counts().head(15)"
   ]
  },
  {
   "cell_type": "markdown",
   "id": "suffering-brick",
   "metadata": {},
   "source": [
    "### Declare Variables"
   ]
  },
  {
   "cell_type": "code",
   "execution_count": 42,
   "id": "impressive-times",
   "metadata": {},
   "outputs": [],
   "source": [
    "engine = 'R532'\n",
    "vehicle = 'Tierra II'\n",
    "red_ratio = '2.58:1 Gear_Rotax B'"
   ]
  },
  {
   "cell_type": "code",
   "execution_count": 43,
   "id": "tired-habitat",
   "metadata": {},
   "outputs": [],
   "source": [
    "filtered_df = (propellers['Engine_ID'] == 'R532') & (propellers['Vehicle_ID'] == 'Tierra II') & (propellers['Reduction_Ratio (Rename to Red... Drive Name)'] == '2.58:1 Gear_Rotax B')"
   ]
  },
  {
   "cell_type": "code",
   "execution_count": 44,
   "id": "standing-equality",
   "metadata": {},
   "outputs": [],
   "source": [
    "results = propellers.loc[filtered_df]"
   ]
  },
  {
   "cell_type": "code",
   "execution_count": 45,
   "id": "alpha-certification",
   "metadata": {},
   "outputs": [
    {
     "data": {
      "text/plain": [
       "3.0    67\n",
       "2.0    11\n",
       "Name: Blade Count, dtype: int64"
      ]
     },
     "execution_count": 45,
     "metadata": {},
     "output_type": "execute_result"
    }
   ],
   "source": [
    "results['Blade Count'].value_counts()"
   ]
  },
  {
   "cell_type": "code",
   "execution_count": 47,
   "id": "minute-vessel",
   "metadata": {},
   "outputs": [
    {
     "data": {
      "text/html": [
       "<div>\n",
       "<style scoped>\n",
       "    .dataframe tbody tr th:only-of-type {\n",
       "        vertical-align: middle;\n",
       "    }\n",
       "\n",
       "    .dataframe tbody tr th {\n",
       "        vertical-align: top;\n",
       "    }\n",
       "\n",
       "    .dataframe thead th {\n",
       "        text-align: right;\n",
       "    }\n",
       "</style>\n",
       "<table border=\"1\" class=\"dataframe\">\n",
       "  <thead>\n",
       "    <tr style=\"text-align: right;\">\n",
       "      <th></th>\n",
       "      <th>Blade Count</th>\n",
       "      <th>Bld_Dia</th>\n",
       "      <th>Customer_ID</th>\n",
       "    </tr>\n",
       "  </thead>\n",
       "  <tbody>\n",
       "    <tr>\n",
       "      <th>count</th>\n",
       "      <td>78.000000</td>\n",
       "      <td>78.000000</td>\n",
       "      <td>78.000000</td>\n",
       "    </tr>\n",
       "    <tr>\n",
       "      <th>mean</th>\n",
       "      <td>2.858974</td>\n",
       "      <td>67.384615</td>\n",
       "      <td>7175.333333</td>\n",
       "    </tr>\n",
       "    <tr>\n",
       "      <th>std</th>\n",
       "      <td>0.350301</td>\n",
       "      <td>1.522394</td>\n",
       "      <td>4575.971774</td>\n",
       "    </tr>\n",
       "    <tr>\n",
       "      <th>min</th>\n",
       "      <td>2.000000</td>\n",
       "      <td>64.000000</td>\n",
       "      <td>367.000000</td>\n",
       "    </tr>\n",
       "    <tr>\n",
       "      <th>25%</th>\n",
       "      <td>3.000000</td>\n",
       "      <td>66.000000</td>\n",
       "      <td>3914.000000</td>\n",
       "    </tr>\n",
       "    <tr>\n",
       "      <th>50%</th>\n",
       "      <td>3.000000</td>\n",
       "      <td>68.000000</td>\n",
       "      <td>6072.000000</td>\n",
       "    </tr>\n",
       "    <tr>\n",
       "      <th>75%</th>\n",
       "      <td>3.000000</td>\n",
       "      <td>68.000000</td>\n",
       "      <td>10272.250000</td>\n",
       "    </tr>\n",
       "    <tr>\n",
       "      <th>max</th>\n",
       "      <td>3.000000</td>\n",
       "      <td>72.000000</td>\n",
       "      <td>18967.000000</td>\n",
       "    </tr>\n",
       "  </tbody>\n",
       "</table>\n",
       "</div>"
      ],
      "text/plain": [
       "       Blade Count    Bld_Dia   Customer_ID\n",
       "count    78.000000  78.000000     78.000000\n",
       "mean      2.858974  67.384615   7175.333333\n",
       "std       0.350301   1.522394   4575.971774\n",
       "min       2.000000  64.000000    367.000000\n",
       "25%       3.000000  66.000000   3914.000000\n",
       "50%       3.000000  68.000000   6072.000000\n",
       "75%       3.000000  68.000000  10272.250000\n",
       "max       3.000000  72.000000  18967.000000"
      ]
     },
     "execution_count": 47,
     "metadata": {},
     "output_type": "execute_result"
    }
   ],
   "source": [
    "results.describe()"
   ]
  }
 ],
 "metadata": {
  "kernelspec": {
   "display_name": "Python 3",
   "language": "python",
   "name": "python3"
  },
  "language_info": {
   "codemirror_mode": {
    "name": "ipython",
    "version": 3
   },
   "file_extension": ".py",
   "mimetype": "text/x-python",
   "name": "python",
   "nbconvert_exporter": "python",
   "pygments_lexer": "ipython3",
   "version": "3.8.2"
  }
 },
 "nbformat": 4,
 "nbformat_minor": 5
}
