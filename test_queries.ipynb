{
 "cells": [
  {
   "cell_type": "code",
   "execution_count": 10,
   "id": "caring-member",
   "metadata": {},
   "outputs": [],
   "source": [
    "import pandas as pd\n",
    "import seaborn as sns\n",
    "import matplotlib.pyplot as plt"
   ]
  },
  {
   "cell_type": "code",
   "execution_count": 21,
   "id": "amino-ridge",
   "metadata": {},
   "outputs": [
    {
     "name": "stdout",
     "output_type": "stream",
     "text": [
      "<class 'pandas.core.frame.DataFrame'>\n",
      "RangeIndex: 49576 entries, 0 to 49575\n",
      "Data columns (total 51 columns):\n",
      " #   Column                                         Non-Null Count  Dtype  \n",
      "---  ------                                         --------------  -----  \n",
      " 0   name                                           49576 non-null  object \n",
      " 1   product_id                                     49576 non-null  object \n",
      " 2   Old_Serial                                     1185 non-null   object \n",
      " 3   New_Serial                                     842 non-null    object \n",
      " 4   Hub_Serial                                     1276 non-null   object \n",
      " 5   Status                                         49575 non-null  object \n",
      " 6   Do Not Import                                  49411 non-null  object \n",
      " 7   Hub Model                                      49576 non-null  object \n",
      " 8   Blade Count                                    49411 non-null  float64\n",
      " 9   Blade Model                                    49576 non-null  object \n",
      " 10  Bld_Dia                                        49413 non-null  float64\n",
      " 11  Taper                                          49576 non-null  bool   \n",
      " 12  Rotation                                       49416 non-null  object \n",
      " 13  Taper_Specs                                    10881 non-null  object \n",
      " 14  Nickel LE                                      49576 non-null  bool   \n",
      " 15  Tip_Color                                      1097 non-null   object \n",
      " 16  Weight_Start                                   46095 non-null  object \n",
      " 17  Weight_End                                     35098 non-null  object \n",
      " 18  Weight_Vert                                    46088 non-null  object \n",
      " 19  Weight_TaperBefore                             10660 non-null  object \n",
      " 20  Weight_TaperAfter                              10831 non-null  object \n",
      " 21  Tracking                                       20895 non-null  object \n",
      " 22  Bld_Notes                                      14569 non-null  object \n",
      " 23  Pinned Collars                                 1 non-null      object \n",
      " 24  Customer_ID                                    49263 non-null  float64\n",
      " 25  Customer_Notes                                 924 non-null    object \n",
      " 26  Vehicle_ID                                     48270 non-null  object \n",
      " 27  Vehicle_Notes                                  3037 non-null   object \n",
      " 28  Engine_ID                                      48170 non-null  object \n",
      " 29  Engine_Notes                                   13606 non-null  object \n",
      " 30  Bolt_Pattern                                   38309 non-null  object \n",
      " 31  Bolt Pattern Notes (New Field)                 7 non-null      object \n",
      " 32  Reduction_Ratio (Rename to Red... Drive Name)  30208 non-null  object \n",
      " 33  Reduction Style                                1 non-null      object \n",
      " 34  Update_1_Date                                  4018 non-null   object \n",
      " 35  Update_1                                       4027 non-null   object \n",
      " 36  Update_2_Date                                  610 non-null    object \n",
      " 37  Update_2                                       611 non-null    object \n",
      " 38  Update_3_Date                                  113 non-null    object \n",
      " 39  Update_3                                       114 non-null    object \n",
      " 40  Update_4_Date                                  16 non-null     object \n",
      " 41  Update_4                                       16 non-null     object \n",
      " 42  Update_5_Date                                  3 non-null      object \n",
      " 43  Update_5                                       3 non-null      object \n",
      " 44  x_studio_ship_date                             49182 non-null  object \n",
      " 45  OLD_NOTES                                      39117 non-null  object \n",
      " 46  Old_BldSpecs                                   38549 non-null  object \n",
      " 47  Old_BldNum                                     39976 non-null  object \n",
      " 48  Old_BldType                                    39971 non-null  object \n",
      " 49  Old_Hub                                        30386 non-null  object \n",
      " 50  Unnamed: 50                                    5 non-null      object \n",
      "dtypes: bool(2), float64(3), object(46)\n",
      "memory usage: 18.6+ MB\n"
     ]
    },
    {
     "name": "stderr",
     "output_type": "stream",
     "text": [
      "/home/chuck/.cache/pypoetry/virtualenvs/wrap-project-50V7Vr4D-py3.8/lib/python3.8/site-packages/IPython/core/interactiveshell.py:3165: DtypeWarning: Columns (4,13,16,19,20,23,31,33,40,41,42,43,47,50) have mixed types.Specify dtype option on import or set low_memory=False.\n",
      "  has_raised = await self.run_ast_nodes(code_ast.body, cell_name,\n"
     ]
    }
   ],
   "source": [
    "propellers = pd.read_csv('data/all_info_test_data.csv')\n",
    "propellers.info()"
   ]
  },
  {
   "cell_type": "code",
   "execution_count": 9,
   "id": "unnecessary-polyester",
   "metadata": {},
   "outputs": [
    {
     "data": {
      "text/plain": [
       "3.0     33130\n",
       "2.0      7622\n",
       "4.0      3306\n",
       "6.0      2260\n",
       "5.0      1782\n",
       "8.0      1093\n",
       "10.0      150\n",
       "12.0       43\n",
       "7.0        14\n",
       "9.0         9\n",
       "1.0         2\n",
       "Name: Blade Count, dtype: int64"
      ]
     },
     "execution_count": 9,
     "metadata": {},
     "output_type": "execute_result"
    }
   ],
   "source": [
    "# Number of Propellers per Blade Count\n",
    "propellers['Blade Count'].value_counts()\n"
   ]
  },
  {
   "cell_type": "code",
   "execution_count": 29,
   "id": "arranged-stage",
   "metadata": {},
   "outputs": [
    {
     "data": {
      "image/png": "[encoded data removed]",
      "text/plain": [
       "<Figure size 432x288 with 1 Axes>"
      ]
     },
     "metadata": {
      "needs_background": "light"
     },
     "output_type": "display_data"
    }
   ],
   "source": [
    "daily = sns.lineplot(x=\"Bld_Dia\", y=\"Blade Count\", hue=\"Blade Model\", data=propellers, ci=0)"
   ]
  },
  {
   "cell_type": "code",
   "execution_count": 30,
   "id": "blind-civilian",
   "metadata": {},
   "outputs": [
    {
     "data": {
      "text/plain": [
       "C          39643\n",
       "H           7378\n",
       "2           1361\n",
       "4           1022\n",
       "Unknown      165\n",
       "-              7\n",
       "Name: Blade Model, dtype: int64"
      ]
     },
     "execution_count": 30,
     "metadata": {},
     "output_type": "execute_result"
    }
   ],
   "source": [
    "propellers['Blade Model'].value_counts()"
   ]
  },
  {
   "cell_type": "code",
   "execution_count": 35,
   "id": "random-aruba",
   "metadata": {
    "tags": []
   },
   "outputs": [
    {
     "data": {
      "text/plain": [
       "68.0    15870\n",
       "72.0     7776\n",
       "70.0     6443\n",
       "66.0     4132\n",
       "60.0     3908\n",
       "62.0     2545\n",
       "64.0     2430\n",
       "80.0     2098\n",
       "58.0      562\n",
       "54.0      496\n",
       "63.0      411\n",
       "67.0      400\n",
       "52.0      400\n",
       "71.0      361\n",
       "56.0      244\n",
       "74.0      168\n",
       "48.0      156\n",
       "69.0      145\n",
       "50.0      128\n",
       "65.0      107\n",
       "78.0       75\n",
       "73.0       71\n",
       "59.0       69\n",
       "82.0       44\n",
       "46.0       40\n",
       "76.0       34\n",
       "57.0       29\n",
       "42.0       28\n",
       "90.0       28\n",
       "55.0       25\n",
       "61.0       18\n",
       "44.0       18\n",
       "60.5       14\n",
       "36.0       11\n",
       "77.0       10\n",
       "Name: Bld_Dia, dtype: int64"
      ]
     },
     "execution_count": 35,
     "metadata": {},
     "output_type": "execute_result"
    }
   ],
   "source": [
    "propellers['Bld_Dia'].value_counts().head(35)"
   ]
  },
  {
   "cell_type": "markdown",
   "id": "bright-cocktail",
   "metadata": {},
   "source": [
    "### Declare Variables"
   ]
  },
  {
   "cell_type": "code",
   "execution_count": 42,
   "id": "economic-julian",
   "metadata": {},
   "outputs": [],
   "source": [
    "engine = 'R532'\n",
    "vehicle = 'Tierra II'\n",
    "red_ratio = '2.58:1 Gear_Rotax B'"
   ]
  },
  {
   "cell_type": "code",
   "execution_count": 43,
   "id": "entitled-dating",
   "metadata": {},
   "outputs": [],
   "source": [
    "filtered_df = (propellers['Engine_ID'] == 'R532') & (propellers['Vehicle_ID'] == 'Tierra II') & (propellers['Reduction_Ratio (Rename to Red... Drive Name)'] == '2.58:1 Gear_Rotax B')"
   ]
  },
  {
   "cell_type": "code",
   "execution_count": 44,
   "id": "strategic-center",
   "metadata": {},
   "outputs": [],
   "source": [
    "results = propellers.loc[filtered_df]"
   ]
  },
  {
   "cell_type": "code",
   "execution_count": 45,
   "id": "continued-think",
   "metadata": {},
   "outputs": [
    {
     "data": {
      "text/plain": [
       "3.0    67\n",
       "2.0    11\n",
       "Name: Blade Count, dtype: int64"
      ]
     },
     "execution_count": 45,
     "metadata": {},
     "output_type": "execute_result"
    }
   ],
   "source": [
    "results['Blade Count'].value_counts()"
   ]
  },
  {
   "cell_type": "code",
   "execution_count": 47,
   "id": "scenic-textbook",
   "metadata": {},
   "outputs": [
    {
     "data": {
      "text/html": [
       "<div>\n",
       "<style scoped>\n",
       "    .dataframe tbody tr th:only-of-type {\n",
       "        vertical-align: middle;\n",
       "    }\n",
       "\n",
       "    .dataframe tbody tr th {\n",
       "        vertical-align: top;\n",
       "    }\n",
       "\n",
       "    .dataframe thead th {\n",
       "        text-align: right;\n",
       "    }\n",
       "</style>\n",
       "<table border=\"1\" class=\"dataframe\">\n",
       "  <thead>\n",
       "    <tr style=\"text-align: right;\">\n",
       "      <th></th>\n",
       "      <th>Blade Count</th>\n",
       "      <th>Bld_Dia</th>\n",
       "      <th>Customer_ID</th>\n",
       "    </tr>\n",
       "  </thead>\n",
       "  <tbody>\n",
       "    <tr>\n",
       "      <th>count</th>\n",
       "      <td>78.000000</td>\n",
       "      <td>78.000000</td>\n",
       "      <td>78.000000</td>\n",
       "    </tr>\n",
       "    <tr>\n",
       "      <th>mean</th>\n",
       "      <td>2.858974</td>\n",
       "      <td>67.384615</td>\n",
       "      <td>7175.333333</td>\n",
       "    </tr>\n",
       "    <tr>\n",
       "      <th>std</th>\n",
       "      <td>0.350301</td>\n",
       "      <td>1.522394</td>\n",
       "      <td>4575.971774</td>\n",
       "    </tr>\n",
       "    <tr>\n",
       "      <th>min</th>\n",
       "      <td>2.000000</td>\n",
       "      <td>64.000000</td>\n",
       "      <td>367.000000</td>\n",
       "    </tr>\n",
       "    <tr>\n",
       "      <th>25%</th>\n",
       "      <td>3.000000</td>\n",
       "      <td>66.000000</td>\n",
       "      <td>3914.000000</td>\n",
       "    </tr>\n",
       "    <tr>\n",
       "      <th>50%</th>\n",
       "      <td>3.000000</td>\n",
       "      <td>68.000000</td>\n",
       "      <td>6072.000000</td>\n",
       "    </tr>\n",
       "    <tr>\n",
       "      <th>75%</th>\n",
       "      <td>3.000000</td>\n",
       "      <td>68.000000</td>\n",
       "      <td>10272.250000</td>\n",
       "    </tr>\n",
       "    <tr>\n",
       "      <th>max</th>\n",
       "      <td>3.000000</td>\n",
       "      <td>72.000000</td>\n",
       "      <td>18967.000000</td>\n",
       "    </tr>\n",
       "  </tbody>\n",
       "</table>\n",
       "</div>"
      ],
      "text/plain": [
       "       Blade Count    Bld_Dia   Customer_ID\n",
       "count    78.000000  78.000000     78.000000\n",
       "mean      2.858974  67.384615   7175.333333\n",
       "std       0.350301   1.522394   4575.971774\n",
       "min       2.000000  64.000000    367.000000\n",
       "25%       3.000000  66.000000   3914.000000\n",
       "50%       3.000000  68.000000   6072.000000\n",
       "75%       3.000000  68.000000  10272.250000\n",
       "max       3.000000  72.000000  18967.000000"
      ]
     },
     "execution_count": 47,
     "metadata": {},
     "output_type": "execute_result"
    }
   ],
   "source": [
    "results.describe()"
   ]
  }
 ],
 "metadata": {
  "kernelspec": {
   "display_name": "Python 3",
   "language": "python",
   "name": "python3"
  },
  "language_info": {
   "codemirror_mode": {
    "name": "ipython",
    "version": 3
   },
   "file_extension": ".py",
   "mimetype": "text/x-python",
   "name": "python",
   "nbconvert_exporter": "python",
   "pygments_lexer": "ipython3",
   "version": "3.8.2"
  }
 },
 "nbformat": 4,
 "nbformat_minor": 5
}
